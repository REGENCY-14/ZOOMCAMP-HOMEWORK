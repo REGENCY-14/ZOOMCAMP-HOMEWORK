{
 "cells": [
  {
   "cell_type": "code",
   "execution_count": 1,
   "id": "eb384567-2851-4e7b-82d1-c2ab78cf1813",
   "metadata": {},
   "outputs": [],
   "source": [
    "import numpy as np\n",
    "import pandas as pd\n",
    "import matplotlib.pyplot as plt\n",
    "import seaborn as sns\n",
    "from sklearn.linear_model import LinearRegression\n",
    "\n",
    "%matplotlib inline\n"
   ]
  },
  {
   "cell_type": "code",
   "execution_count": 2,
   "id": "5ff0eedc-0c87-4709-a7bc-a4e2c3b468a8",
   "metadata": {},
   "outputs": [],
   "source": [
    "df = pd.read_csv('laptops.csv')\n",
    "\n",
    "df.columns = df.columns.str.lower().str.replace(' ', '_')\n"
   ]
  },
  {
   "cell_type": "code",
   "execution_count": 3,
   "id": "44665bf3-ecd0-44a6-ad28-d05c675342d6",
   "metadata": {},
   "outputs": [],
   "source": [
    "df = df[['ram','storage','screen','final_price']]"
   ]
  },
  {
   "cell_type": "code",
   "execution_count": 4,
   "id": "7cf00fd2-7eb9-4218-840b-4e3d393d0445",
   "metadata": {},
   "outputs": [
    {
     "data": {
      "text/html": [
       "<div>\n",
       "<style scoped>\n",
       "    .dataframe tbody tr th:only-of-type {\n",
       "        vertical-align: middle;\n",
       "    }\n",
       "\n",
       "    .dataframe tbody tr th {\n",
       "        vertical-align: top;\n",
       "    }\n",
       "\n",
       "    .dataframe thead th {\n",
       "        text-align: right;\n",
       "    }\n",
       "</style>\n",
       "<table border=\"1\" class=\"dataframe\">\n",
       "  <thead>\n",
       "    <tr style=\"text-align: right;\">\n",
       "      <th></th>\n",
       "      <th>ram</th>\n",
       "      <th>storage</th>\n",
       "      <th>screen</th>\n",
       "      <th>final_price</th>\n",
       "    </tr>\n",
       "  </thead>\n",
       "  <tbody>\n",
       "    <tr>\n",
       "      <th>0</th>\n",
       "      <td>8</td>\n",
       "      <td>512</td>\n",
       "      <td>15.6</td>\n",
       "      <td>1009.00</td>\n",
       "    </tr>\n",
       "    <tr>\n",
       "      <th>1</th>\n",
       "      <td>8</td>\n",
       "      <td>256</td>\n",
       "      <td>15.6</td>\n",
       "      <td>299.00</td>\n",
       "    </tr>\n",
       "    <tr>\n",
       "      <th>2</th>\n",
       "      <td>8</td>\n",
       "      <td>256</td>\n",
       "      <td>15.6</td>\n",
       "      <td>789.00</td>\n",
       "    </tr>\n",
       "    <tr>\n",
       "      <th>3</th>\n",
       "      <td>16</td>\n",
       "      <td>1000</td>\n",
       "      <td>15.6</td>\n",
       "      <td>1199.00</td>\n",
       "    </tr>\n",
       "    <tr>\n",
       "      <th>4</th>\n",
       "      <td>16</td>\n",
       "      <td>512</td>\n",
       "      <td>15.6</td>\n",
       "      <td>669.01</td>\n",
       "    </tr>\n",
       "    <tr>\n",
       "      <th>...</th>\n",
       "      <td>...</td>\n",
       "      <td>...</td>\n",
       "      <td>...</td>\n",
       "      <td>...</td>\n",
       "    </tr>\n",
       "    <tr>\n",
       "      <th>2155</th>\n",
       "      <td>16</td>\n",
       "      <td>1000</td>\n",
       "      <td>17.3</td>\n",
       "      <td>2699.99</td>\n",
       "    </tr>\n",
       "    <tr>\n",
       "      <th>2156</th>\n",
       "      <td>16</td>\n",
       "      <td>1000</td>\n",
       "      <td>17.3</td>\n",
       "      <td>2899.99</td>\n",
       "    </tr>\n",
       "    <tr>\n",
       "      <th>2157</th>\n",
       "      <td>32</td>\n",
       "      <td>1000</td>\n",
       "      <td>17.3</td>\n",
       "      <td>3399.99</td>\n",
       "    </tr>\n",
       "    <tr>\n",
       "      <th>2158</th>\n",
       "      <td>16</td>\n",
       "      <td>1000</td>\n",
       "      <td>13.4</td>\n",
       "      <td>1899.99</td>\n",
       "    </tr>\n",
       "    <tr>\n",
       "      <th>2159</th>\n",
       "      <td>16</td>\n",
       "      <td>256</td>\n",
       "      <td>13.4</td>\n",
       "      <td>1699.99</td>\n",
       "    </tr>\n",
       "  </tbody>\n",
       "</table>\n",
       "<p>2160 rows × 4 columns</p>\n",
       "</div>"
      ],
      "text/plain": [
       "      ram  storage  screen  final_price\n",
       "0       8      512    15.6      1009.00\n",
       "1       8      256    15.6       299.00\n",
       "2       8      256    15.6       789.00\n",
       "3      16     1000    15.6      1199.00\n",
       "4      16      512    15.6       669.01\n",
       "...   ...      ...     ...          ...\n",
       "2155   16     1000    17.3      2699.99\n",
       "2156   16     1000    17.3      2899.99\n",
       "2157   32     1000    17.3      3399.99\n",
       "2158   16     1000    13.4      1899.99\n",
       "2159   16      256    13.4      1699.99\n",
       "\n",
       "[2160 rows x 4 columns]"
      ]
     },
     "execution_count": 4,
     "metadata": {},
     "output_type": "execute_result"
    }
   ],
   "source": [
    "df"
   ]
  },
  {
   "cell_type": "code",
   "execution_count": 5,
   "id": "a0dfc8ad-3580-4a93-a5c9-04177033fbbb",
   "metadata": {},
   "outputs": [
    {
     "data": {
      "text/plain": [
       "<Axes: xlabel='final_price', ylabel='Count'>"
      ]
     },
     "execution_count": 5,
     "metadata": {},
     "output_type": "execute_result"
    },
    {
     "data": {
      "image/png": "[encoded data removed]",
      "text/plain": [
       "<Figure size 640x480 with 1 Axes>"
      ]
     },
     "metadata": {},
     "output_type": "display_data"
    }
   ],
   "source": [
    "sns.histplot(df['final_price'],kde = True)\n"
   ]
  },
  {
   "cell_type": "markdown",
   "id": "8de0437a-8006-4efd-a2dd-52a632020972",
   "metadata": {},
   "source": [
    "## Question One \n"
   ]
  },
  {
   "cell_type": "code",
   "execution_count": 6,
   "id": "515b6de6-d790-42a6-b298-da946d604e46",
   "metadata": {},
   "outputs": [
    {
     "data": {
      "text/plain": [
       "ram            0\n",
       "storage        0\n",
       "screen         4\n",
       "final_price    0\n",
       "dtype: int64"
      ]
     },
     "execution_count": 6,
     "metadata": {},
     "output_type": "execute_result"
    }
   ],
   "source": [
    "missing_values = df.isnull().sum()\n",
    "missing_values\n"
   ]
  },
  {
   "cell_type": "code",
   "execution_count": 7,
   "id": "0430415b-b53c-407b-81df-b9c2a5b9e787",
   "metadata": {},
   "outputs": [
    {
     "data": {
      "text/plain": [
       "ram            False\n",
       "storage        False\n",
       "screen          True\n",
       "final_price    False\n",
       "dtype: bool"
      ]
     },
     "execution_count": 7,
     "metadata": {},
     "output_type": "execute_result"
    }
   ],
   "source": [
    "missing_values > 0\n"
   ]
  },
  {
   "cell_type": "markdown",
   "id": "d8e59d96-a181-49ed-bcd1-68aa2bf2314e",
   "metadata": {},
   "source": [
    "## Question two \n"
   ]
  },
  {
   "cell_type": "code",
   "execution_count": 8,
   "id": "ce6c085a-c2e7-40c6-8efd-f0d48c5e6dff",
   "metadata": {},
   "outputs": [
    {
     "data": {
      "text/plain": [
       "16.0"
      ]
     },
     "execution_count": 8,
     "metadata": {},
     "output_type": "execute_result"
    }
   ],
   "source": [
    "df['ram'].median()\n"
   ]
  },
  {
   "cell_type": "markdown",
   "id": "7e3ebb61-a722-414a-b94f-fb23e30cb2df",
   "metadata": {},
   "source": [
    "## Prepare and split the dataset\n"
   ]
  },
  {
   "cell_type": "code",
   "execution_count": 9,
   "id": "b0360f71-22b9-4a31-900c-108f5e0bf9b9",
   "metadata": {},
   "outputs": [],
   "source": [
    "n = len(df)\n",
    "idx = np.arange(n)"
   ]
  },
  {
   "cell_type": "code",
   "execution_count": 10,
   "id": "7b87c686-cb3e-4f4f-9656-05419cc1f865",
   "metadata": {},
   "outputs": [
    {
     "data": {
      "text/html": [
       "<div>\n",
       "<style scoped>\n",
       "    .dataframe tbody tr th:only-of-type {\n",
       "        vertical-align: middle;\n",
       "    }\n",
       "\n",
       "    .dataframe tbody tr th {\n",
       "        vertical-align: top;\n",
       "    }\n",
       "\n",
       "    .dataframe thead th {\n",
       "        text-align: right;\n",
       "    }\n",
       "</style>\n",
       "<table border=\"1\" class=\"dataframe\">\n",
       "  <thead>\n",
       "    <tr style=\"text-align: right;\">\n",
       "      <th></th>\n",
       "      <th>ram</th>\n",
       "      <th>storage</th>\n",
       "      <th>screen</th>\n",
       "      <th>final_price</th>\n",
       "    </tr>\n",
       "  </thead>\n",
       "  <tbody>\n",
       "    <tr>\n",
       "      <th>0</th>\n",
       "      <td>32</td>\n",
       "      <td>1000</td>\n",
       "      <td>15.6</td>\n",
       "      <td>1123.29</td>\n",
       "    </tr>\n",
       "    <tr>\n",
       "      <th>1</th>\n",
       "      <td>4</td>\n",
       "      <td>64</td>\n",
       "      <td>14.1</td>\n",
       "      <td>201.05</td>\n",
       "    </tr>\n",
       "    <tr>\n",
       "      <th>2</th>\n",
       "      <td>32</td>\n",
       "      <td>1000</td>\n",
       "      <td>14.0</td>\n",
       "      <td>997.74</td>\n",
       "    </tr>\n",
       "    <tr>\n",
       "      <th>3</th>\n",
       "      <td>16</td>\n",
       "      <td>512</td>\n",
       "      <td>13.3</td>\n",
       "      <td>1016.00</td>\n",
       "    </tr>\n",
       "    <tr>\n",
       "      <th>4</th>\n",
       "      <td>32</td>\n",
       "      <td>1000</td>\n",
       "      <td>16.0</td>\n",
       "      <td>2739.00</td>\n",
       "    </tr>\n",
       "    <tr>\n",
       "      <th>...</th>\n",
       "      <td>...</td>\n",
       "      <td>...</td>\n",
       "      <td>...</td>\n",
       "      <td>...</td>\n",
       "    </tr>\n",
       "    <tr>\n",
       "      <th>2155</th>\n",
       "      <td>8</td>\n",
       "      <td>512</td>\n",
       "      <td>15.0</td>\n",
       "      <td>1838.29</td>\n",
       "    </tr>\n",
       "    <tr>\n",
       "      <th>2156</th>\n",
       "      <td>8</td>\n",
       "      <td>256</td>\n",
       "      <td>15.6</td>\n",
       "      <td>531.80</td>\n",
       "    </tr>\n",
       "    <tr>\n",
       "      <th>2157</th>\n",
       "      <td>8</td>\n",
       "      <td>256</td>\n",
       "      <td>13.3</td>\n",
       "      <td>765.33</td>\n",
       "    </tr>\n",
       "    <tr>\n",
       "      <th>2158</th>\n",
       "      <td>8</td>\n",
       "      <td>512</td>\n",
       "      <td>14.0</td>\n",
       "      <td>803.61</td>\n",
       "    </tr>\n",
       "    <tr>\n",
       "      <th>2159</th>\n",
       "      <td>32</td>\n",
       "      <td>1000</td>\n",
       "      <td>16.0</td>\n",
       "      <td>2102.18</td>\n",
       "    </tr>\n",
       "  </tbody>\n",
       "</table>\n",
       "<p>2160 rows × 4 columns</p>\n",
       "</div>"
      ],
      "text/plain": [
       "      ram  storage  screen  final_price\n",
       "0      32     1000    15.6      1123.29\n",
       "1       4       64    14.1       201.05\n",
       "2      32     1000    14.0       997.74\n",
       "3      16      512    13.3      1016.00\n",
       "4      32     1000    16.0      2739.00\n",
       "...   ...      ...     ...          ...\n",
       "2155    8      512    15.0      1838.29\n",
       "2156    8      256    15.6       531.80\n",
       "2157    8      256    13.3       765.33\n",
       "2158    8      512    14.0       803.61\n",
       "2159   32     1000    16.0      2102.18\n",
       "\n",
       "[2160 rows x 4 columns]"
      ]
     },
     "execution_count": 10,
     "metadata": {},
     "output_type": "execute_result"
    }
   ],
   "source": [
    "np.random.seed(42)\n",
    "np.random.shuffle(idx)\n",
    "df = df.iloc[idx].reset_index(drop=True)\n",
    "df"
   ]
  },
  {
   "cell_type": "code",
   "execution_count": 11,
   "id": "c067d808-4c0a-40cd-89cb-02cf3342cd0f",
   "metadata": {},
   "outputs": [],
   "source": [
    "\n",
    "n_val = int (n * 0.2)\n",
    "n_test = int (n * 0.2)\n",
    "n_train = int(n * 0.6)\n"
   ]
  },
  {
   "cell_type": "markdown",
   "id": "394c404f-0c54-4ee0-9ca4-9ee8e2ea9d36",
   "metadata": {},
   "source": [
    "## QUESTION 3"
   ]
  },
  {
   "cell_type": "markdown",
   "id": "3b94bb8a-1df8-4fa1-8af8-276f087f8c84",
   "metadata": {},
   "source": [
    "## FILL WITH zero"
   ]
  },
  {
   "cell_type": "code",
   "execution_count": 12,
   "id": "4bb5c50e-5737-4746-8038-96301f510c95",
   "metadata": {},
   "outputs": [],
   "source": [
    "df_train = df.iloc[idx[:n_train]].copy()\n",
    "df_val=df.iloc[idx[n_train:n_train + n_val]].copy()\n",
    "df_test= df.iloc[idx[n_train + n_val:]].copy()\n"
   ]
  },
  {
   "cell_type": "code",
   "execution_count": 13,
   "id": "702e2018-289b-471d-9c49-50847273cc82",
   "metadata": {},
   "outputs": [],
   "source": [
    "mean_values = df_train[['ram', 'storage', 'screen']].mean()\n"
   ]
  },
  {
   "cell_type": "code",
   "execution_count": 14,
   "id": "9772763d-a9a3-43eb-b5f6-249bb4064fa1",
   "metadata": {},
   "outputs": [],
   "source": [
    "X_train = df_train[['ram', 'storage', 'screen']].fillna(0).values\n",
    "X_val = df_val[['ram', 'storage', 'screen']].fillna(0).values\n",
    "X_test = df_test[['ram', 'storage', 'screen']].fillna(0).values\n"
   ]
  },
  {
   "cell_type": "code",
   "execution_count": 15,
   "id": "ee9fa0e8-9dc7-455c-ac60-f7ae3f74e53f",
   "metadata": {},
   "outputs": [],
   "source": [
    "y_train=np.log1p(df_train.final_price.values)\n",
    "y_val = np.log1p(df_val.final_price.values)\n",
    "y_test = np.log1p(df_test.final_price.values)\n"
   ]
  },
  {
   "cell_type": "code",
   "execution_count": 16,
   "id": "c2529e9f-be27-4daa-a1b8-d031313e774a",
   "metadata": {},
   "outputs": [],
   "source": [
    "def train_linear_regression(X, y):\n",
    "    ones = np.ones(X.shape[0])\n",
    "    X = np.column_stack([ones, X])\n",
    "\n",
    "    XTX = X.T.dot(X)\n",
    "    XTX_inv = np.linalg.inv(XTX)\n",
    "    w = XTX_inv.dot(X.T).dot(y)\n",
    "    \n",
    "    return w[0], w[1:]\n"
   ]
  },
  {
   "cell_type": "code",
   "execution_count": 17,
   "id": "c7f9f0b9-08de-4c32-be60-d75b9caca6fe",
   "metadata": {},
   "outputs": [],
   "source": [
    "w0, w = train_linear_regression(X_train, y_train)\n"
   ]
  },
  {
   "cell_type": "code",
   "execution_count": 18,
   "id": "6789a002-8d33-4ad2-869c-d2f8b3ebc6c5",
   "metadata": {},
   "outputs": [
    {
     "data": {
      "text/plain": [
       "(6.73531826904355, array([ 0.02624169,  0.0006957 , -0.03861175]))"
      ]
     },
     "execution_count": 18,
     "metadata": {},
     "output_type": "execute_result"
    }
   ],
   "source": [
    "w0, w\n"
   ]
  },
  {
   "cell_type": "markdown",
   "id": "71d848ba-68e9-415a-adc8-6514c9fdfda4",
   "metadata": {},
   "source": [
    "## FILL WITH MEAN"
   ]
  },
  {
   "cell_type": "code",
   "execution_count": 19,
   "id": "f929346f-b340-4a73-9cf4-c298088cf0bb",
   "metadata": {},
   "outputs": [],
   "source": [
    "X_train1 = df_train[['ram', 'storage', 'screen']].fillna(mean_values).values\n",
    "X_val1 = df_val[['ram', 'storage', 'screen']].fillna(mean_values).values\n",
    "X_test1 = df_test[['ram', 'storage', 'screen']].fillna(mean_values).values\n"
   ]
  },
  {
   "cell_type": "code",
   "execution_count": 20,
   "id": "deba97d8-5d1e-4128-aadb-59679b9124a3",
   "metadata": {},
   "outputs": [],
   "source": [
    "w0 ,w = train_linear_regression(X_train1, y_train)\n"
   ]
  },
  {
   "cell_type": "code",
   "execution_count": 21,
   "id": "a88e9df4-a751-42ce-bbd6-79cc6294bce6",
   "metadata": {},
   "outputs": [
    {
     "data": {
      "text/plain": [
       "(6.732788041891629, array([ 0.02626154,  0.00069473, -0.03839705]))"
      ]
     },
     "execution_count": 21,
     "metadata": {},
     "output_type": "execute_result"
    }
   ],
   "source": [
    "w0 , w\n"
   ]
  },
  {
   "cell_type": "code",
   "execution_count": 22,
   "id": "291d7cc1-b77b-4e0f-bcdb-6fbbb81d70b6",
   "metadata": {},
   "outputs": [],
   "source": [
    "y_pred = w0 + X_train.dot(w)\n"
   ]
  },
  {
   "cell_type": "code",
   "execution_count": 23,
   "id": "ece64f5b-2827-43c9-aeaf-17e062a339d4",
   "metadata": {},
   "outputs": [],
   "source": [
    "def rmse(y, y_pred):\n",
    "    error = y_pred - y\n",
    "    mse = (error ** 2).mean()\n",
    "    return np.sqrt(mse)\n"
   ]
  },
  {
   "cell_type": "markdown",
   "id": "fdb042d3-9387-4222-bf6b-748fcc908b0e",
   "metadata": {},
   "source": [
    "## RSME FOR ZERO FILLING"
   ]
  },
  {
   "cell_type": "code",
   "execution_count": 24,
   "id": "adc53938-0103-4f2d-ba79-d17ded59d3b2",
   "metadata": {},
   "outputs": [
    {
     "data": {
      "text/plain": [
       "0.45"
      ]
     },
     "execution_count": 24,
     "metadata": {},
     "output_type": "execute_result"
    }
   ],
   "source": [
    "score = rmse(y_train, y_pred)\n",
    "round(score, 2)\n"
   ]
  },
  {
   "cell_type": "markdown",
   "id": "ce9a6e00-683b-450f-96db-49c536bac244",
   "metadata": {},
   "source": [
    "## RSME FOR MEAN FILLING"
   ]
  },
  {
   "cell_type": "code",
   "execution_count": 25,
   "id": "36e8c2ea-08bc-4877-a41b-809db85f0797",
   "metadata": {},
   "outputs": [
    {
     "data": {
      "text/plain": [
       "0.45"
      ]
     },
     "execution_count": 25,
     "metadata": {},
     "output_type": "execute_result"
    }
   ],
   "source": [
    "y_pred = w0 + X_train1.dot(w)\n",
    "\n",
    "score = rmse(y_train, y_pred)\n",
    "round(score, 2)\n",
    "\n"
   ]
  },
  {
   "cell_type": "markdown",
   "id": "f1916968-67ae-4fc3-a28c-2d79b6f48060",
   "metadata": {},
   "source": [
    "## Question 4\n"
   ]
  },
  {
   "cell_type": "code",
   "execution_count": 26,
   "id": "4bd286af-b719-4432-b1cb-c5e0930b7a5d",
   "metadata": {},
   "outputs": [],
   "source": [
    "def train_linear_regression_reg(X, y, r):\n",
    "    ones = np.ones(X.shape[0])\n",
    "    X = np.column_stack([ones, X])\n",
    "\n",
    "    XTX = X.T.dot(X)\n",
    "    XTX = XTX + r * np.eye(XTX.shape[0])    \n",
    "    \n",
    "    XTX_inv = np.linalg.inv(XTX)\n",
    "    w = XTX_inv.dot(X.T).dot(y)\n",
    "    \n",
    "    return w[0], w[1:]\n",
    "\n"
   ]
  },
  {
   "cell_type": "code",
   "execution_count": 27,
   "id": "c6b47ecd-0c0d-4ce4-be07-32cf6fd3534f",
   "metadata": {},
   "outputs": [
    {
     "name": "stdout",
     "output_type": "stream",
     "text": [
      "r = 0.0,  w0 = 6.73531826904355,  score = 0.42\n",
      "r = 0.01,  w0 = 6.727398418693735,  score = 0.42\n",
      "r = 0.1,  w0 = 6.65695258620368,  score = 0.42\n",
      "r = 1,  w0 = 6.026226743368414,  score = 0.43\n",
      "r = 5,  w0 = 4.243589689214551,  score = 0.48\n",
      "r = 10,  w0 = 3.10175393375784,  score = 0.54\n",
      "r = 100,  w0 = 0.5512842242417937,  score = 0.72\n"
     ]
    }
   ],
   "source": [
    "for r in [0.0, 0.01, 0.1, 1, 5, 10, 100]:\n",
    "    w0, w = train_linear_regression_reg(X_train,y_train, r=r)\n",
    "\n",
    "    y_pred = w0 + X_val.dot(w)\n",
    "\n",
    "    score = rmse(y_val,y_pred)\n",
    "    score = round(score,2)\n",
    "    \n",
    "    print(f\"r = {r},  w0 = {w0},  score = {score}\")\n"
   ]
  },
  {
   "cell_type": "markdown",
   "id": "5e4b5f40-0b86-4135-9b9d-dbfbed06f30d",
   "metadata": {},
   "source": [
    "## Question 5\n"
   ]
  },
  {
   "cell_type": "code",
   "execution_count": 34,
   "id": "2d2fc3b8-bada-4eb5-94a8-30250616b2c3",
   "metadata": {},
   "outputs": [],
   "source": [
    "seeds = [0, 1, 2, 3, 4, 5, 6, 7, 8, 9]\n",
    "\n",
    "rmse_scores = []\n"
   ]
  },
  {
   "cell_type": "code",
   "execution_count": 35,
   "id": "865b1906-56d2-4da2-88bc-e507f01573eb",
   "metadata": {},
   "outputs": [
    {
     "name": "stdout",
     "output_type": "stream",
     "text": [
      "Seed: 0, RMSE: 0.42\n",
      "Seed: 1, RMSE: 0.427\n",
      "Seed: 2, RMSE: 0.427\n",
      "Seed: 3, RMSE: 0.426\n",
      "Seed: 4, RMSE: 0.423\n",
      "Seed: 5, RMSE: 0.425\n",
      "Seed: 6, RMSE: 0.421\n",
      "Seed: 7, RMSE: 0.426\n",
      "Seed: 8, RMSE: 0.421\n",
      "Seed: 9, RMSE: 0.422\n"
     ]
    }
   ],
   "source": [
    "for seed in seeds:\n",
    "    n = len(df)\n",
    "    n_val = int(n * 0.2)\n",
    "    n_test = int(n * 0.2)\n",
    "    n_train = n - n_val - n_test\n",
    "    \n",
    "    idx = np.arange(n)\n",
    "    np.random.seed(seed)\n",
    "    np.random.shuffle(idx)\n",
    "    \n",
    "    df_train = df.iloc[idx[:n_train]].copy()\n",
    "    df_val = df.iloc[n_train:n_train + n_val].copy()\n",
    "    df_test = df.iloc[n_train + n_val:].copy()\n",
    "    \n",
    "    X_train = df_train[['ram', 'storage', 'screen']].fillna(0).values\n",
    "    y_train = np.log1p(df_train.final_price.values)\n",
    "    X_val =  df_val[['ram', 'storage', 'screen']].fillna(0).values\n",
    "    y_val =  np.log1p(df_val.final_price.values)\n",
    "    \n",
    "    w0, w = train_linear_regression(X_train, y_train)\n",
    "    \n",
    "    y_pred = w0 + X_val.dot(w)\n",
    "    \n",
    "    score = rmse(y_val, y_pred)\n",
    "    rmse_scores.append(score)\n",
    "    \n",
    "    print(f\"Seed: {seed}, RMSE: {round(score, 3)}\")\n"
   ]
  },
  {
   "cell_type": "code",
   "execution_count": 36,
   "id": "91d3e318-3b68-4998-8d38-7cb2c99156e0",
   "metadata": {},
   "outputs": [
    {
     "name": "stdout",
     "output_type": "stream",
     "text": [
      "\n",
      "Standard deviation of RMSE scores: 0.003\n"
     ]
    }
   ],
   "source": [
    "std = np.std(rmse_scores)\n",
    "# std_rounded = round(std, 3)\n",
    "print(f\"\\nStandard deviation of RMSE scores: {std_rounded}\")"
   ]
  },
  {
   "cell_type": "markdown",
   "id": "5a4b0b90-45c5-407d-8a44-ba18bc55d533",
   "metadata": {},
   "source": [
    "## QUESTION 6\n"
   ]
  },
  {
   "cell_type": "code",
   "execution_count": 37,
   "id": "59548a8e-c375-4635-8983-bff5cec81691",
   "metadata": {},
   "outputs": [],
   "source": [
    "n = len(df)\n",
    "n_val = int(n * 0.2)\n",
    "n_test = int(n * 0.2)\n",
    "n_train = n - n_val - n_test"
   ]
  },
  {
   "cell_type": "code",
   "execution_count": 39,
   "id": "3783b2d4-edbe-460b-ba00-37f5fc82ff61",
   "metadata": {},
   "outputs": [],
   "source": [
    "seed = 9\n",
    "\n",
    "idx = np.arange(n)\n",
    "np.random.seed(seed)\n",
    "np.random.shuffle(idx)"
   ]
  },
  {
   "cell_type": "code",
   "execution_count": 40,
   "id": "d21ca4cc-baba-4685-a5b4-299c46d7ba27",
   "metadata": {},
   "outputs": [],
   "source": [
    "df_train = df.iloc[idx[:n_train]].copy()\n",
    "df_val = df.iloc[n_train:n_train + n_val].copy()\n",
    "df_test = df.iloc[n_train + n_val:].copy()"
   ]
  },
  {
   "cell_type": "code",
   "execution_count": 41,
   "id": "5baf01d2-edd5-47cf-bcc6-87e0dcec640f",
   "metadata": {},
   "outputs": [],
   "source": [
    "df_new = pd.concat([df_train, df_val], axis=0)\n",
    "df_new.fillna(0, inplace=True)"
   ]
  },
  {
   "cell_type": "code",
   "execution_count": 42,
   "id": "01804f8c-0eb6-4677-8e49-1dc655922b27",
   "metadata": {},
   "outputs": [],
   "source": [
    "X_new = df_new[['ram', 'storage', 'screen']].values\n",
    "y_new = np.log1p(df_new.final_price.values)"
   ]
  },
  {
   "cell_type": "code",
   "execution_count": 44,
   "id": "d83838fd-2c65-4294-a8c0-e063ea5b026d",
   "metadata": {},
   "outputs": [],
   "source": [
    "r = 0.001\n",
    "w0, w = train_linear_regression_reg(X_new, y_new, r=r)"
   ]
  },
  {
   "cell_type": "code",
   "execution_count": 45,
   "id": "4dcd940c-cffc-4dd1-8ceb-28106338168a",
   "metadata": {},
   "outputs": [],
   "source": [
    "df_test.fillna(0, inplace=True)  # Fill missing values in test set with 0\n",
    "X_test = df_test[['ram', 'storage', 'screen']].values\n",
    "y_test = np.log1p(df_test.final_price.values)"
   ]
  },
  {
   "cell_type": "code",
   "execution_count": 46,
   "id": "b2928e07-2b8b-42c4-adb1-7c4d2eabae79",
   "metadata": {},
   "outputs": [],
   "source": [
    "y_pred = w0 + X_test.dot(w)"
   ]
  },
  {
   "cell_type": "code",
   "execution_count": 47,
   "id": "2e5ae0d7-b856-4dd1-a667-f9cc920c9612",
   "metadata": {},
   "outputs": [],
   "source": [
    "test_score = rmse(y_test, y_pred)\n",
    "test_score = round(test_score, 2)"
   ]
  },
  {
   "cell_type": "code",
   "execution_count": 48,
   "id": "8c5b80ae-dea8-4139-baea-858515bb741f",
   "metadata": {},
   "outputs": [
    {
     "name": "stdout",
     "output_type": "stream",
     "text": [
      "RMSE on the test set: 0.42\n"
     ]
    }
   ],
   "source": [
    "print(f\"RMSE on the test set: {test_score}\")"
   ]
  },
  {
   "cell_type": "code",
   "execution_count": null,
   "id": "27f542f2-1713-4fc8-9eb5-9bf5a3e61399",
   "metadata": {},
   "outputs": [],
   "source": []
  }
 ],
 "metadata": {
  "kernelspec": {
   "display_name": "Python 3 (ipykernel)",
   "language": "python",
   "name": "python3"
  },
  "language_info": {
   "codemirror_mode": {
    "name": "ipython",
    "version": 3
   },
   "file_extension": ".py",
   "mimetype": "text/x-python",
   "name": "python",
   "nbconvert_exporter": "python",
   "pygments_lexer": "ipython3",
   "version": "3.9.19"
  }
 },
 "nbformat": 4,
 "nbformat_minor": 5
}
