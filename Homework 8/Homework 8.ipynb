{
 "cells": [
  {
   "cell_type": "code",
   "execution_count": null,
   "id": "14685072-289f-491d-93c6-4f4a9f5d3184",
   "metadata": {},
   "outputs": [],
   "source": []
  }
 ],
 "metadata": {
  "kernelspec": {
   "display_name": "",
   "name": ""
  },
  "language_info": {
   "name": ""
  }
 },
 "nbformat": 4,
 "nbformat_minor": 5
}
